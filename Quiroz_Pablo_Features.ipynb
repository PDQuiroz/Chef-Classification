{
 "cells": [
  {
   "cell_type": "markdown",
   "id": "fantastic-florence",
   "metadata": {},
   "source": [
    "# Feature Engineering\n",
    "In this script we will create, modify and convert to logs, variable that we deem are necessary to explain the cross_sell_success. \n",
    "\n",
    "\n",
    "## Importing and loading essentials"
   ]
  },
  {
   "cell_type": "code",
   "execution_count": 18,
   "id": "popular-disaster",
   "metadata": {},
   "outputs": [
    {
     "data": {
      "text/plain": [
       "Index(['revenue', 'cross_sell_success', 'name', 'email', 'first_name',\n",
       "       'family_name', 'total_meals_ordered', 'unique_meals_purch',\n",
       "       'contacts_w_customer_service', 'product_categories_viewed',\n",
       "       'avg_time_per_site_visit', 'mobile_number', 'cancellations_before_noon',\n",
       "       'cancellations_after_noon', 'tastes_and_preferences', 'pc_logins',\n",
       "       'mobile_logins', 'weekly_plan', 'early_deliveries', 'late_deliveries',\n",
       "       'package_locker', 'refrigerated_locker', 'avg_prep_vid_time',\n",
       "       'avg_order_size', 'master_classes_attended', 'median_meal_rating',\n",
       "       'avg_clicks_per_visit', 'total_photos_viewed', 'log_revenue',\n",
       "       'has_cancel_bnoon', 'has_weekly_plan', 'has_early_deliveries',\n",
       "       'has_late_deliveries', 'has_master_classes_attended',\n",
       "       'has_total_photos_viewed', 'total_cancellations', 'junk', 'personal',\n",
       "       'professional', 'unknown', 'andy', 'female', 'male', 'mostly_male',\n",
       "       'gender_unknown'],\n",
       "      dtype='object')"
      ]
     },
     "execution_count": 18,
     "metadata": {},
     "output_type": "execute_result"
    }
   ],
   "source": [
    "# importing python's 101\n",
    "import pandas  as pd\n",
    "import numpy   as np\n",
    "import matplotlib.pyplot as plt\n",
    "import seaborn as sns\n",
    "\n",
    "import statsmodels.formula.api as smf # linear regression (statsmodels)\n",
    "from sklearn.model_selection import train_test_split # train/test split\n",
    "from sklearn.linear_model import LinearRegression # linear regression (scikit-learn)\n",
    "\n",
    "\n",
    "# loading dataset\n",
    "file = \"./datasets/chef_dataset_5.xlsx\"\n",
    "chef = pd.read_excel(io = file)\n",
    "\n",
    "chef.columns"
   ]
  },
  {
   "cell_type": "code",
   "execution_count": 19,
   "id": "suspended-german",
   "metadata": {},
   "outputs": [],
   "source": [
    "chef = chef.drop(['total_cancellations'] , axis = 1)"
   ]
  },
  {
   "cell_type": "markdown",
   "id": "foster-integrity",
   "metadata": {},
   "source": [
    "## Exploration of the Distribution"
   ]
  },
  {
   "cell_type": "code",
   "execution_count": 20,
   "id": "forty-advertising",
   "metadata": {},
   "outputs": [],
   "source": [
    "def view_distribution(column):\n",
    "    \n",
    "    # Histogram regular revenue\n",
    "    plt.subplot(2,1,1)\n",
    "    plt.hist( x = column,\n",
    "                bins = 'fd')\n",
    "\n",
    "    plt.title(\"Normal Distribution\")\n",
    "    \n",
    "    plt.subplot(2,1,2)\n",
    "    plt.hist( x = np.log10(column),\n",
    "                bins = 'fd')\n",
    "\n",
    "    plt.title(\"Log Distribution\")\n",
    "    \n",
    "    plt.tight_layout()\n",
    "    \n",
    "    plt.show()\n"
   ]
  },
  {
   "cell_type": "code",
   "execution_count": 5,
   "id": "active-cement",
   "metadata": {},
   "outputs": [
    {
     "data": {
      "image/png": "[encoded data removed]",
      "text/plain": [
       "<Figure size 432x288 with 2 Axes>"
      ]
     },
     "metadata": {
      "needs_background": "light"
     },
     "output_type": "display_data"
    }
   ],
   "source": [
    "view_distribution(chef['avg_order_size'])"
   ]
  },
  {
   "cell_type": "code",
   "execution_count": 21,
   "id": "restricted-oakland",
   "metadata": {},
   "outputs": [],
   "source": [
    "# Converting Relevant Columns To Log10\n",
    "chef['log_total_meals_ordered'] = np.log10(chef['total_meals_ordered'])\n",
    "chef['log_unique_meals_purch'] = np.log10(chef['unique_meals_purch'])\n",
    "chef['log_contacts_w_customer_service'] = np.log10(chef['contacts_w_customer_service'])\n",
    "chef['log_avg_time_per_site_visit'] = np.log10(chef['avg_time_per_site_visit'])\n",
    "chef['log_avg_prep_vid_time'] = np.log10(chef['avg_prep_vid_time'])\n",
    "chef['log_median_meal_rating'] = np.log10(chef['median_meal_rating'])\n",
    "chef['log_avg_clicks_per_visit'] = np.log10(chef['avg_clicks_per_visit'])\n",
    "chef['log_avg_order_size'] = np.log10(chef['avg_order_size'])\n",
    "\n"
   ]
  },
  {
   "cell_type": "markdown",
   "id": "republican-formula",
   "metadata": {},
   "source": [
    "## Creating New Features"
   ]
  },
  {
   "cell_type": "code",
   "execution_count": 22,
   "id": "designing-theta",
   "metadata": {},
   "outputs": [],
   "source": [
    "chef['total_logins'] = chef['pc_logins'] + chef['mobile_logins']\n",
    "chef['avg_total_time'] = chef['avg_prep_vid_time'] + chef['avg_time_per_site_visit']\n",
    "chef['log_avg_total_time'] = np.log10(chef['avg_total_time'])\n",
    "\n"
   ]
  },
  {
   "cell_type": "code",
   "execution_count": 8,
   "id": "bulgarian-vacuum",
   "metadata": {},
   "outputs": [
    {
     "data": {
      "image/png": "[encoded data removed]",
      "text/plain": [
       "<Figure size 432x288 with 2 Axes>"
      ]
     },
     "metadata": {
      "needs_background": "light"
     },
     "output_type": "display_data"
    }
   ],
   "source": [
    "view_distribution(chef['log_avg_total_time'])"
   ]
  },
  {
   "cell_type": "markdown",
   "id": "brilliant-arnold",
   "metadata": {},
   "source": [
    "## Exporting the Dataset"
   ]
  },
  {
   "cell_type": "code",
   "execution_count": null,
   "id": "stylish-content",
   "metadata": {},
   "outputs": [],
   "source": [
    "chef.to_excel('./datasets/chef_dataset_9.xlsx', index = False)"
   ]
  },
  {
   "cell_type": "markdown",
   "id": "restricted-humanity",
   "metadata": {},
   "source": [
    "## Removing High P-Values"
   ]
  },
  {
   "cell_type": "code",
   "execution_count": 23,
   "id": "noticed-antigua",
   "metadata": {},
   "outputs": [],
   "source": [
    "chef_data = chef.drop(['revenue' , 'cross_sell_success'], axis = 1)\n",
    "chef_target = chef.loc[: , 'cross_sell_success']"
   ]
  },
  {
   "cell_type": "code",
   "execution_count": 24,
   "id": "realistic-repository",
   "metadata": {},
   "outputs": [],
   "source": [
    "x_train, x_test, y_train, y_test = train_test_split(chef_data,\n",
    "                                                    chef_target,\n",
    "                                                    test_size = 0.25,\n",
    "                                                    random_state = 219,\n",
    "                                                    stratify = chef_target)"
   ]
  },
  {
   "cell_type": "code",
   "execution_count": 25,
   "id": "encouraging-fraction",
   "metadata": {},
   "outputs": [
    {
     "name": "stdout",
     "output_type": "stream",
     "text": [
      "revenue +\n",
      "cross_sell_success +\n",
      "name +\n",
      "email +\n",
      "first_name +\n",
      "family_name +\n",
      "total_meals_ordered +\n",
      "unique_meals_purch +\n",
      "contacts_w_customer_service +\n",
      "product_categories_viewed +\n",
      "avg_time_per_site_visit +\n",
      "mobile_number +\n",
      "cancellations_before_noon +\n",
      "cancellations_after_noon +\n",
      "tastes_and_preferences +\n",
      "pc_logins +\n",
      "mobile_logins +\n",
      "weekly_plan +\n",
      "early_deliveries +\n",
      "late_deliveries +\n",
      "package_locker +\n",
      "refrigerated_locker +\n",
      "avg_prep_vid_time +\n",
      "avg_order_size +\n",
      "master_classes_attended +\n",
      "median_meal_rating +\n",
      "avg_clicks_per_visit +\n",
      "total_photos_viewed +\n",
      "log_revenue +\n",
      "has_cancel_bnoon +\n",
      "has_weekly_plan +\n",
      "has_early_deliveries +\n",
      "has_late_deliveries +\n",
      "has_master_classes_attended +\n",
      "has_total_photos_viewed +\n",
      "junk +\n",
      "personal +\n",
      "professional +\n",
      "unknown +\n",
      "andy +\n",
      "female +\n",
      "male +\n",
      "mostly_male +\n",
      "gender_unknown +\n",
      "log_total_meals_ordered +\n",
      "log_unique_meals_purch +\n",
      "log_contacts_w_customer_service +\n",
      "log_avg_time_per_site_visit +\n",
      "log_avg_prep_vid_time +\n",
      "log_median_meal_rating +\n",
      "log_avg_clicks_per_visit +\n",
      "log_avg_order_size +\n",
      "total_logins +\n",
      "avg_total_time +\n",
      "log_avg_total_time +\n"
     ]
    }
   ],
   "source": [
    "for val in chef.columns:\n",
    "    print(f\"{val} +\")"
   ]
  },
  {
   "cell_type": "code",
   "execution_count": 59,
   "id": "recovered-scratch",
   "metadata": {},
   "outputs": [
    {
     "name": "stdout",
     "output_type": "stream",
     "text": [
      "                            OLS Regression Results                            \n",
      "==============================================================================\n",
      "Dep. Variable:     cross_sell_success   R-squared:                       0.138\n",
      "Model:                            OLS   Adj. R-squared:                  0.133\n",
      "Method:                 Least Squares   F-statistic:                     23.27\n",
      "Date:                Sun, 24 Jan 2021   Prob (F-statistic):           6.03e-41\n",
      "Time:                        21:05:26   Log-Likelihood:                -850.69\n",
      "No. Observations:                1459   AIC:                             1723.\n",
      "Df Residuals:                    1448   BIC:                             1782.\n",
      "Df Model:                          10                                         \n",
      "Covariance Type:            nonrobust                                         \n",
      "===============================================================================================\n",
      "                                  coef    std err          t      P>|t|      [0.025      0.975]\n",
      "-----------------------------------------------------------------------------------------------\n",
      "Intercept                      -0.3985      0.198     -2.016      0.044      -0.786      -0.011\n",
      "total_meals_ordered            -0.0016      0.001     -3.081      0.002      -0.003      -0.001\n",
      "contacts_w_customer_service     0.0216      0.006      3.498      0.000       0.009       0.034\n",
      "mobile_number                   0.1629      0.035      4.713      0.000       0.095       0.231\n",
      "cancellations_before_noon       0.0469      0.008      6.230      0.000       0.032       0.062\n",
      "tastes_and_preferences          0.0699      0.025      2.746      0.006       0.020       0.120\n",
      "pc_logins                       0.0425      0.020      2.153      0.031       0.004       0.081\n",
      "early_deliveries                0.0251      0.008      3.125      0.002       0.009       0.041\n",
      "has_early_deliveries           -0.0827      0.038     -2.153      0.031      -0.158      -0.007\n",
      "junk                           -0.3349      0.029    -11.678      0.000      -0.391      -0.279\n",
      "log_total_meals_ordered         0.3488      0.096      3.639      0.000       0.161       0.537\n",
      "==============================================================================\n",
      "Omnibus:                      294.110   Durbin-Watson:                   1.998\n",
      "Prob(Omnibus):                  0.000   Jarque-Bera (JB):              164.992\n",
      "Skew:                          -0.688   Prob(JB):                     1.49e-36\n",
      "Kurtosis:                       2.095   Cond. No.                     1.74e+03\n",
      "==============================================================================\n",
      "\n",
      "Notes:\n",
      "[1] Standard Errors assume that the covariance matrix of the errors is correctly specified.\n",
      "[2] The condition number is large, 1.74e+03. This might indicate that there are\n",
      "strong multicollinearity or other numerical problems.\n"
     ]
    }
   ],
   "source": [
    "# merging X_train and y_train so that they can be used in statsmodels\n",
    "chef_train = pd.concat([x_train, y_train], axis = 1)\n",
    "\n",
    "\n",
    "# Step 1: build a model\n",
    "lm_best = smf.ols(formula =  \"\"\"cross_sell_success ~ total_meals_ordered +\n",
    "contacts_w_customer_service +\n",
    "mobile_number +\n",
    "cancellations_before_noon +\n",
    "tastes_and_preferences +\n",
    "pc_logins +\n",
    "early_deliveries +\n",
    "has_early_deliveries +\n",
    "junk +\n",
    "log_total_meals_ordered    \"\"\",\n",
    "                                data = chef_train)\n",
    "\n",
    "\n",
    "# Step 2: fit the model based on the data\n",
    "results = lm_best.fit()\n",
    "\n",
    "\n",
    "\n",
    "# Step 3: analyze the summary output\n",
    "print(results.summary())"
   ]
  },
  {
   "cell_type": "code",
   "execution_count": 58,
   "id": "eligible-underwear",
   "metadata": {},
   "outputs": [],
   "source": [
    "# Creating variables with acceptable p-values\n",
    "x_variables = ['total_meals_ordered' \n",
    ",'contacts_w_customer_service' \n",
    ",'mobile_number' \n",
    ",'cancellations_before_noon' \n",
    ",'tastes_and_preferences' \n",
    ",'pc_logins' \n",
    ",'early_deliveries' \n",
    ",'has_early_deliveries' \n",
    ",'junk' \n",
    "'log_total_meals_ordered' ]"
   ]
  }
 ],
 "metadata": {
  "kernelspec": {
   "display_name": "Python 3",
   "language": "python",
   "name": "python3"
  },
  "language_info": {
   "codemirror_mode": {
    "name": "ipython",
    "version": 3
   },
   "file_extension": ".py",
   "mimetype": "text/x-python",
   "name": "python",
   "nbconvert_exporter": "python",
   "pygments_lexer": "ipython3",
   "version": "3.8.5"
  },
  "toc": {
   "base_numbering": 1,
   "nav_menu": {},
   "number_sections": true,
   "sideBar": true,
   "skip_h1_title": false,
   "title_cell": "Table of Contents",
   "title_sidebar": "Contents",
   "toc_cell": false,
   "toc_position": {},
   "toc_section_display": true,
   "toc_window_display": false
  },
  "varInspector": {
   "cols": {
    "lenName": 16,
    "lenType": 16,
    "lenVar": 40
   },
   "kernels_config": {
    "python": {
     "delete_cmd_postfix": "",
     "delete_cmd_prefix": "del ",
     "library": "var_list.py",
     "varRefreshCmd": "print(var_dic_list())"
    },
    "r": {
     "delete_cmd_postfix": ") ",
     "delete_cmd_prefix": "rm(",
     "library": "var_list.r",
     "varRefreshCmd": "cat(var_dic_list()) "
    }
   },
   "types_to_exclude": [
    "module",
    "function",
    "builtin_function_or_method",
    "instance",
    "_Feature"
   ],
   "window_display": false
  }
 },
 "nbformat": 4,
 "nbformat_minor": 5
}
